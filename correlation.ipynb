{
 "cells": [
  {
   "cell_type": "code",
   "execution_count": 3,
   "id": "4997f9b2",
   "metadata": {},
   "outputs": [],
   "source": [
    "import pandas as pd\n",
    "import numpy as np\n",
    "import folium \n",
    "import matplotlib.pyplot as plt\n",
    "data = pd.read_csv(\"data/historical_state_population_by_year.csv\", on_bad_lines='skip')"
   ]
  },
  {
   "cell_type": "code",
   "execution_count": 20,
   "id": "42d13bcf",
   "metadata": {},
   "outputs": [],
   "source": [
    "data=data[data[\"state\"]!=\"DC\"]"
   ]
  },
  {
   "cell_type": "code",
   "execution_count": null,
   "id": "f4118e0c",
   "metadata": {},
   "outputs": [],
   "source": []
  }
 ],
 "metadata": {
  "kernelspec": {
   "display_name": "Python 3",
   "language": "python",
   "name": "python3"
  },
  "language_info": {
   "codemirror_mode": {
    "name": "ipython",
    "version": 3
   },
   "file_extension": ".py",
   "mimetype": "text/x-python",
   "name": "python",
   "nbconvert_exporter": "python",
   "pygments_lexer": "ipython3",
   "version": "3.10.4"
  }
 },
 "nbformat": 4,
 "nbformat_minor": 5
}
