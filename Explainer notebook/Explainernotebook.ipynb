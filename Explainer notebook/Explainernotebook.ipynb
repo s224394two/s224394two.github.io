{
 "cells": [
  {
   "cell_type": "markdown",
   "id": "642230fe",
   "metadata": {},
   "source": [
    "### Motivation\n",
    "//What is your dataset?//\n",
    "\n",
    "This project contains several datasets, in order to explore the phenomena of UFO sightings through multiple lenses. The first and main dataset is the NUFORC UFO Sightings dataset, sourced from the National UFO Reporting Center and hosted on Kaggle, comprises around 80,000 individual reports of unidentified flying object (UFO) sightings. These records span more than a century, offering a foundation for both quantitative and qualitative analysis of UFO sightings. The second dataset this project contains is covering US military bases, it contains 776 entries, and 10 attributes, describing the location, the name of the base and the branch of service which the base is tied to. The third and last dataset used, is a dataset over historic populations in the different US States.\n",
    "\n",
    "//Why did you choose this/these particular dataset(s)?//\n",
    "\n",
    "The interest in this dataset arises from a foundation of scientific curiosity. UFO sightings have long been a hot bed of conspiracy theory ranging from alleged extraterrestrial encounters to secret government projects. At the same time, they have played a prominent role in popular culture, featured in iconic films and television shows such as The X-Files, Close Encounters of the Third Kind, E.T., and The Thing, among many others. This makes the study of UFO reports not only intriguing but also culturally significant. We are particularly excited about the opportunity to explore these sightings through both quantitative and qualitative analysis. Regardless of whether one is a skeptic or a true believer, there is no denying the existence of UFOs in the strict sense of the term; Unidentified Flying Objects observed by individuals looking up at the sky. This dataset offers a substantial sample size spanning multiple decades and includes several key attributes that provide strong insights into these encounters. These include the reported shape of the object, geographic coordinates, state annotations, the duration of each sighting, and the year of occurrence. The militaray base dataset is interesting due to the coupling with government projects, such as air force experiemental flyings. The military base dataset is interesting because it is linked to government projects, such as experimental flights by the Air Force. The historic state population dataset, is interesting due to the correlation between popualtion and UFO sights.\n",
    "\n",
    "//What was your goal for the end user's experience?//\n",
    "\n",
    "Our goal is to provide an engaging and informative experience that encourages critical thinking about UFO sightings. By taking a skeptical perspective, we aim to help users explore alternative explanations for sightings—such as proximity to military bases or population density. Through tools like heat maps and time series visualizations, we wanted users to interact with the data and uncover patterns that might suggest grounded, non-extraterrestrial causes for reported sightings."
   ]
  },
  {
   "cell_type": "markdown",
   "id": "3adc9e4d",
   "metadata": {},
   "source": [
    "### Basic Stats\n",
    "//*Write about your choices in data cleaning and preprocessing*//\n",
    "For the UFO sightings dataset, our first decision was to filter out all entries outside the United States. This choice was based on two main reasons. First, the vast majority of sightings approximately 74,000 out of 80,000 occurred within the U.S., making it the most relevant and data-rich region for analysis. Second, this allowed us to narrow the scope of the project to a more manageable and consistent geographic focus.\n",
    "\n",
    "In the military base dataset, we further refined the data to include only U.S. Air Force bases. While all branches of the military operate aircraft, the Air Force is uniquely dedicated to aeronautics. Additionally, it would be difficult to reliably distinguish between different types of army bases (e.g., infantry vs. air units), making the Air Force the most suitable focus for this analysis. We removed all rows containing missing (NaN) values from each dataset.\n",
    "\n",
    "//*Write a short section that discusses the dataset stats, containing key points/plots from your exploratory data analysis*//\n"
   ]
  },
  {
   "cell_type": "markdown",
   "id": "69ecc542",
   "metadata": {},
   "source": [
    "### Data Analysis\n",
    "//Describe your data analysis and explain what you've learned about the dataset.//\n",
    "\n",
    "//If relevant, talk about your machine-learning.//"
   ]
  },
  {
   "cell_type": "markdown",
   "id": "5705343c",
   "metadata": {},
   "source": [
    "### Genre. Which genre of data story did you use?\n",
    "- Magazine style\n",
    "\n",
    "Which tools did you use from each of the 3 categories of Visual Narrative (Figure 7 in Segal and Heer). Why?\n",
    "- Visual structuring: Consistent visual platform\n",
    "\n",
    "Which tools did you use from each of the 3 categories of Narrative Structure (Figure 7 in Segal and Heer). Why?\n",
    "- Ordering: Linear ordering\n",
    "- Interactivity: Hovering highlighting, Filtering/selection\n",
    "- Messaging: Captions, Annotations, Accompanying article, Introductory text, \n"
   ]
  },
  {
   "cell_type": "markdown",
   "id": "cae5f2b6",
   "metadata": {},
   "source": [
    "### Visualizations\n",
    "Explain the visualizations you've chosen.\n",
    "\n",
    "Why are they right for the story you want to tell?"
   ]
  },
  {
   "cell_type": "markdown",
   "id": "9fe68dab",
   "metadata": {},
   "source": [
    "### Discussion. Think critically about your creation\n",
    "What went well?\n",
    "\n",
    "What is still missing? What could be improved?, Why?"
   ]
  },
  {
   "cell_type": "markdown",
   "id": "6f109dfc",
   "metadata": {},
   "source": [
    "### Contributions. Who did what?\n",
    "You should write (just briefly) which group member was the main responsible for which elements of the assignment. (I want you guys to understand every part of the assignment, but usually there is someone who took lead role on certain portions of the work. That's what you should explain).\n",
    "It is not OK simply to write \"All group members contributed equally\".\n",
    "Make sure that you use references when they're needed and follow academic standards."
   ]
  }
 ],
 "metadata": {
  "language_info": {
   "name": "python"
  }
 },
 "nbformat": 4,
 "nbformat_minor": 5
}
