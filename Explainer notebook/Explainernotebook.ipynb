{
 "cells": [
  {
   "cell_type": "markdown",
   "id": "642230fe",
   "metadata": {},
   "source": [
    "### Motivation\n",
    "What is your dataset?\n",
    "\n",
    "Why did you choose this/these particular dataset(s)?\n",
    "\n",
    "What was your goal for the end user's experience?"
   ]
  },
  {
   "cell_type": "markdown",
   "id": "3adc9e4d",
   "metadata": {},
   "source": [
    "### Basic Stats\n",
    "Write about your choices in data cleaning and preprocessing\n",
    "\n",
    "Write a short section that discusses the dataset stats, containing key points/plots from your exploratory data analysis"
   ]
  },
  {
   "cell_type": "markdown",
   "id": "69ecc542",
   "metadata": {},
   "source": [
    "### Data Analysis\n",
    "Describe your data analysis and explain what you've learned about the dataset.\n",
    "\n",
    "If relevant, talk about your machine-learning."
   ]
  },
  {
   "cell_type": "markdown",
   "id": "5705343c",
   "metadata": {},
   "source": [
    "### Genre. Which genre of data story did you use?\n",
    "Which tools did you use from each of the 3 categories of Visual Narrative (Figure 7 in Segal and Heer). Why?\n",
    "\n",
    "Which tools did you use from each of the 3 categories of Narrative Structure (Figure 7 in Segal and Heer). Why?"
   ]
  },
  {
   "cell_type": "markdown",
   "id": "cae5f2b6",
   "metadata": {},
   "source": [
    "### Visualizations\n",
    "Explain the visualizations you've chosen.\n",
    "\n",
    "Why are they right for the story you want to tell?"
   ]
  },
  {
   "cell_type": "markdown",
   "id": "9fe68dab",
   "metadata": {},
   "source": [
    "### Discussion. Think critically about your creation\n",
    "What went well?\n",
    "\n",
    "What is still missing? What could be improved?, Why?"
   ]
  },
  {
   "cell_type": "markdown",
   "id": "6f109dfc",
   "metadata": {},
   "source": [
    "### Contributions. Who did what?\n",
    "You should write (just briefly) which group member was the main responsible for which elements of the assignment. (I want you guys to understand every part of the assignment, but usually there is someone who took lead role on certain portions of the work. That's what you should explain).\n",
    "It is not OK simply to write \"All group members contributed equally\".\n",
    "Make sure that you use references when they're needed and follow academic standards."
   ]
  },
  {
   "cell_type": "code",
   "execution_count": null,
   "id": "40b221ae",
   "metadata": {},
   "outputs": [],
   "source": []
  }
 ],
 "metadata": {
  "language_info": {
   "name": "python"
  }
 },
 "nbformat": 4,
 "nbformat_minor": 5
}
